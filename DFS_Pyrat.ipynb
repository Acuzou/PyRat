{
  "nbformat": 4,
  "nbformat_minor": 0,
  "metadata": {
    "colab": {
      "provenance": []
    },
    "kernelspec": {
      "name": "python3",
      "display_name": "Python 3"
    }
  },
  "cells": [
    {
      "cell_type": "markdown",
      "metadata": {
        "id": "2TuyPXbywCpq"
      },
      "source": [
        "<h1><b><center>How to use this file with PyRat?</center></b></h1>"
      ]
    },
    {
      "cell_type": "markdown",
      "metadata": {
        "id": "vGFn7-8SwIiR"
      },
      "source": [
        "Google Colab provides an efficient environment for writing codes collaboratively with your group. For us, teachers, it allows to come and see your advancement from time to time, and help you solve some bugs if needed.\n",
        "\n",
        "The PyRat software is a complex environment that takes as an input an AI file (as this file). It requires some resources as well as a few Python libraries, so we have installed it on a virtual machine for you.\n",
        "\n",
        "PyRat is a local program, and Google Colab is a distant tool. Therefore, we need to indicate the PyRat software where to get your code! In order to submit your program to PyRat, you should follow the following steps:\n",
        "\n",
        "1.   In this notebook, click on *Share* (top right corner of the navigator). Then, change sharing method to *Anyone with the link*, and copy the sharing link;\n",
        "2.   On the machine where the PyRat software is installed, start a terminal and navigate to your PyRat directory;\n",
        "3.   Run the command `python ./pyrat.py --rat \"<link>\" <options>`, where `<link>` is the share link copied in step 1. (put it between quotes), and `<options>` are other PyRat options you may need."
      ]
    },
    {
      "cell_type": "markdown",
      "metadata": {
        "id": "p9zlfF1iafqy"
      },
      "source": [
        "<h1><b><center>Pre-defined constants</center></b></h1>"
      ]
    },
    {
      "cell_type": "markdown",
      "metadata": {
        "id": "U7btUw_naI-R"
      },
      "source": [
        "A PyRat program should -- at each turn -- decide in which direction to move. This is done in the `turn` function later in this document, which should return one of the following constants:"
      ]
    },
    {
      "cell_type": "code",
      "metadata": {
        "id": "bnoalRWgaGxP"
      },
      "source": [
        "MOVE_DOWN = 'D'\n",
        "MOVE_LEFT = 'L'\n",
        "MOVE_RIGHT = 'R'\n",
        "MOVE_UP = 'U'"
      ],
      "execution_count": null,
      "outputs": []
    },
    {
      "cell_type": "markdown",
      "metadata": {
        "id": "tQF4Icesbar5"
      },
      "source": [
        "<h1><b><center>Your coding area</center></b></h1>"
      ]
    },
    {
      "cell_type": "markdown",
      "metadata": {
        "id": "dcKT5Itcbin1"
      },
      "source": [
        "Please put your functions, imports, constants, etc. between this text and the PyRat functions below. You can add as many code cells as you want, we just ask that you keep things organized (one function per cell, commented, etc.), so that it is easier for the teachers to help you debug your code!"
      ]
    },
    {
      "cell_type": "markdown",
      "metadata": {
        "id": "55cJ3fciR6d-"
      },
      "source": []
    },
    {
      "cell_type": "code",
      "metadata": {
        "id": "ghzFngwacFNa"
      },
      "source": [
        "#Importation module\n",
        "import random as rd\n",
        "\n",
        "#Comparaison recherche profondeur et largeur\n",
        "#python pyrat.py --rat \"https://colab.research.google.com/drive/1tSogjcQWO2cdv_WcRPsMTqhfp5cWVnFE?usp=sharing\" --python \"https://colab.research.google.com/drive/1FLItxuxxs9-53U7gVDPxSxR3OlYIh1FS?usp=sharing\" --tests 100 --nodrawing -x 10 -y 10 -p 6 -md 0.0 --synchronous\n",
        "\n",
        "#Commande petit map sans mud avec 1 seule fromage\n",
        "#python pyrat.py --rat \"https://colab.research.google.com/drive/1tSogjcQWO2cdv_WcRPsMTqhfp5cWVnFE?usp=sharing\" -md 0.0 -p 1 -x 5 -y 5 --random_seed 1\n",
        "\n",
        "#Commande petit map avec mud\n",
        "#python pyrat.py --rat \"https://colab.research.google.com/drive/1tSogjcQWO2cdv_WcRPsMTqhfp5cWVnFE?usp=sharing\" -p 1 -x 15 -y 15 -d 0.5 --random_seed 1"
      ],
      "execution_count": null,
      "outputs": []
    },
    {
      "cell_type": "code",
      "metadata": {
        "id": "vf5T0RzaURSS"
      },
      "source": [
        "#Variable global\n",
        "visited_locations = []\n",
        "path_memory = []\n",
        "path = []\n",
        "route = []\n",
        "target=(0,0)\n",
        "\n",
        "#https://colab.research.google.com/drive/1tSogjcQWO2cdv_WcRPsMTqhfp5cWVnFE?usp=sharing"
      ],
      "execution_count": null,
      "outputs": []
    },
    {
      "cell_type": "code",
      "metadata": {
        "id": "jXNoMpFhcFJu"
      },
      "source": [
        "\n",
        "def random_move_dfs(player_location, maze_map):\n",
        "  '''Execute the dfs agorithm to choose the direction of each turn'''\n",
        "  global path_memory\n",
        "  global visited_locations\n",
        "\n",
        "  if player_location not in visited_locations:\n",
        "    visited_locations.append(player_location)\n",
        "\n",
        "  #Faire parcours en profondeur\n",
        "  all_best_moves = []\n",
        "\n",
        "  for x in maze_map[player_location].keys():\n",
        "    if x not in visited_locations :\n",
        "      all_best_moves.append(move_from_locations(player_location, x))\n",
        "\n",
        "  #If the player is blocked, it return on his way to find new disponibilities\n",
        "  if all_best_moves == []:\n",
        "    return move_from_locations(player_location, path_memory.pop())\n",
        "\n",
        "  #Choose a direction randomly among the disponibilities\n",
        "  else :\n",
        "    path_memory.append(player_location)\n",
        "\n",
        "    return rd.choice(all_best_moves)"
      ],
      "execution_count": null,
      "outputs": []
    },
    {
      "cell_type": "code",
      "metadata": {
        "id": "soOxltZdcFEa"
      },
      "source": [
        "def move_from_locations(source_location, target_location):\n",
        "  '''Compute the difference between the source and target location and return where the player goes'''\n",
        "\n",
        "  difference = (target_location[0] - source_location[0], target_location[1] - source_location[1])\n",
        "  if difference == (0, -1):\n",
        "    return MOVE_DOWN\n",
        "  elif difference == (0, 1):\n",
        "    return MOVE_UP\n",
        "  elif difference == (1, 0):\n",
        "    return MOVE_RIGHT\n",
        "  elif difference == (-1, 0):\n",
        "    return MOVE_LEFT\n",
        "  else :\n",
        "    raise Exception(\"Impossible move\")"
      ],
      "execution_count": null,
      "outputs": []
    },
    {
      "cell_type": "markdown",
      "metadata": {
        "id": "KVVMrcBxR_Tn"
      },
      "source": []
    },
    {
      "cell_type": "code",
      "metadata": {
        "id": "T790_6kTcE9Q"
      },
      "source": [],
      "execution_count": null,
      "outputs": []
    },
    {
      "cell_type": "code",
      "metadata": {
        "id": "2qsy-2kscEtp"
      },
      "source": [],
      "execution_count": null,
      "outputs": []
    },
    {
      "cell_type": "code",
      "metadata": {
        "id": "lPAMAzSGcHVh"
      },
      "source": [
        "\n",
        "\n"
      ],
      "execution_count": null,
      "outputs": []
    },
    {
      "cell_type": "code",
      "metadata": {
        "id": "cCaKOzcWh9m5"
      },
      "source": [
        "# This unified algorithm takes as arguments a graph, and a vertex of this graph from which to start the graph traversal\n",
        "# using a queuing structure. The algorithm returns the list of explored_vertices, and a routing table to navigate through the graph.\n",
        "\n",
        "def traversal(player_location, maze_map):\n",
        "  '''Take the location of the player and the graph of the map and return the rooting_table (dictionnaries) of the maze_map'''\n",
        "\n",
        "  fifo = []\n",
        "  # Add the starting vertex with None as parent\n",
        "  fifo.insert(0, (player_location, None))\n",
        "  # Initialize the outputs\n",
        "  explored_locations = []\n",
        "  routing_table = {}\n",
        "  # Iterate while some vertices remain\n",
        "  while len(fifo) > 0 :\n",
        "\n",
        "    # This will return the next vertex to be examined, and the choice of queuing structure will change the resulting order\n",
        "    (current_location, parent) = fifo.pop()\n",
        "    # Tests whether the current vertex is in the list of explored vertices\n",
        "    if current_location not in explored_locations :\n",
        "      # Mark the player_location as explored\n",
        "      explored_locations.append(current_location)\n",
        "\n",
        "      # Update the routing table accordingly\n",
        "      routing_table[current_location] = parent\n",
        "\n",
        "      # Examine neighbors of the current vertex\n",
        "      for neighbor in maze_map[current_location].keys() :\n",
        "        # We push all unexplored neighbors to the queue\n",
        "        if neighbor not in explored_locations :\n",
        "          fifo.insert(0, (neighbor, current_location))\n",
        "\n",
        "  return routing_table"
      ],
      "execution_count": null,
      "outputs": []
    },
    {
      "cell_type": "code",
      "metadata": {
        "id": "ltEJx6M1M06Q"
      },
      "source": [],
      "execution_count": null,
      "outputs": []
    },
    {
      "cell_type": "code",
      "metadata": {
        "id": "A4zJSdTTbrRC"
      },
      "source": [
        "def finds_route(routing_table, source_location, target_location):\n",
        "  '''Actualize the new route forward the next cheese based on the routing table'''\n",
        "  #Recursive algorithm\n",
        "\n",
        "  global route\n",
        "  if source_location == target_location:\n",
        "    return route.insert(0, target_location)\n",
        "  else:\n",
        "    route.insert(0, target_location)\n",
        "    return finds_route(routing_table, source_location, routing_table[target_location])"
      ],
      "execution_count": null,
      "outputs": []
    },
    {
      "cell_type": "code",
      "metadata": {
        "id": "H42Bnpdqreip"
      },
      "source": [],
      "execution_count": null,
      "outputs": []
    },
    {
      "cell_type": "code",
      "metadata": {
        "id": "dg_U0S3uCPlZ"
      },
      "source": [
        "def finds_route2(routing_table, source_location, target_location):\n",
        "  '''Actualize the new route forward the next cheese based on the routing table'''\n",
        "\n",
        "  #While loop algorithm\n",
        "  global route\n",
        "\n",
        "  location = target_location\n",
        "\n",
        "  #On parcours le routing_table à l'envers à partir du fromage jusqu'au source_location\n",
        "  while location != source_location:\n",
        "\n",
        "    route.insert(0, location)\n",
        "\n",
        "    #Location devient son parent\n",
        "    location = routing_table[location]\n",
        "\n",
        "  route.insert(0, source_location)"
      ],
      "execution_count": null,
      "outputs": []
    },
    {
      "cell_type": "code",
      "metadata": {
        "id": "i7cf4iHjAPSi"
      },
      "source": [
        "def move_bfs(player_location):\n",
        "  '''Return the direction to follow based on the route and the location of the player in this route to move forward the next cheese'''\n",
        "  global route\n",
        "\n",
        "  index = route.index(player_location)\n",
        "\n",
        "  return move_from_locations(route[index], route[index + 1])\n"
      ],
      "execution_count": null,
      "outputs": []
    },
    {
      "cell_type": "markdown",
      "metadata": {
        "id": "EjL8BEixcF3j"
      },
      "source": [
        "<h1><b><center>PyRat functions</center></b></h1>"
      ]
    },
    {
      "cell_type": "markdown",
      "metadata": {
        "id": "T1L9f0UAcN0p"
      },
      "source": [
        "The `preprocessing` function is called at the very start of a game. It is attributed a longer time compared to `turn`, which allows you to perform intensive computations. If you store the results of these computations into **global** variables, you will be able to reuse them in the `turn` function.\n",
        "\n",
        "*Input:*\n",
        "*   `maze_map` -- **dict(pair(int, int), dict(pair(int, int), int))** -- The map of the maze where the game takes place. This structure associates each cell with the dictionry of its neighbors. In that dictionary of neighbors, keys are cell coordinates, and associated values the number of moves required to reach that neighbor. As an example, `list(maze_map[(0, 0)].keys())` returns the list of accessible cells from `(0, 0)`. Then, if for example `(0, 1)` belongs to that list, one can access the number of moves to go from `(0, 0)` to `(0, 1)` by the code `maze_map[(0, 0)][0, 1)]`.\n",
        "*   `maze_width` -- **int** -- The width of the maze, in number of cells.\n",
        "*   `maze_height` -- **int** -- The height of the maze, in number of cells.\n",
        "*   `player_location` -- **pair(int, int)** -- The initial location of your character in the maze.\n",
        "*   `opponent_location` -- **pair(int,int)** -- The initial location of your opponent's character in the maze.\n",
        "*   `pieces_of_cheese` -- **list(pair(int, int))** -- The initial location of all pieces of cheese in the maze.\n",
        "*   `time_allowed` -- **float** -- The time you can take for preprocessing before the game starts checking for moves.\n",
        "\n",
        "*Output:*\n",
        "*   This function does not output anything."
      ]
    },
    {
      "cell_type": "code",
      "metadata": {
        "id": "vFa29qLAcOUb"
      },
      "source": [
        "def preprocessing (maze_map, maze_width, maze_height, player_location, opponent_location, pieces_of_cheese, time_allowed) :\n",
        "\n",
        "    global route\n",
        "    global routing_table\n",
        "    global target\n",
        "    # Example prints that appear in the shell only at the beginning of the game\n",
        "    # Remove them when you write your own program\n",
        "    print(\"maze_map\", type(maze_map), maze_map)\n",
        "    print(\"maze_width\", type(maze_width), maze_width)\n",
        "    print(\"maze_height\", type(maze_height), maze_height)\n",
        "    print(\"player_location\", type(player_location), player_location)\n",
        "    print(\"opponent_location\", type(opponent_location), opponent_location)\n",
        "    print(\"pieces_of_cheese\", type(pieces_of_cheese), pieces_of_cheese)\n",
        "    print(\"time_allowed\", type(time_allowed), time_allowed)\n",
        "\n",
        "    #Crée le routing_table\n",
        "    routing_table = traversal(player_location, maze_map)\n",
        "\n",
        "    #Actualise la route à emprunter par la souris\n",
        "    target=pieces_of_cheese[0]\n",
        "    finds_route2(routing_table, player_location, target)"
      ],
      "execution_count": null,
      "outputs": []
    },
    {
      "cell_type": "markdown",
      "metadata": {
        "id": "QRi94kuZaVcx"
      },
      "source": [
        "The `turn` function is called each time the game is waiting\n",
        "for the player to make a decision (*i.e.*, to return a move among those defined above).\n",
        "\n",
        "*Input:*\n",
        "*   `maze_map` -- **dict(pair(int, int), dict(pair(int, int), int))** -- The map of the maze. It is the same as in the `preprocessing` function, just given here again for convenience.\n",
        "*   `maze_width` -- **int** -- The width of the maze, in number of cells.\n",
        "*   `maze_height` -- **int** -- The height of the maze, in number of cells.\n",
        "*   `player_location` -- **pair(int, int)** -- The current location of your character in the maze.\n",
        "*   `opponent_location` -- **pair(int,int)** -- The current location of your opponent's character in the maze.\n",
        "*   `player_score` -- **float** -- Your current score.\n",
        "*   `opponent_score` -- **float** -- The opponent's current score.\n",
        "*   `pieces_of_cheese` -- **list(pair(int, int))** -- The location of remaining pieces of cheese in the maze.\n",
        "*   `time_allowed` -- **float** -- The time you can take to return a move to apply before another time starts automatically.\n",
        "\n",
        "*Output:*\n",
        "*   A chosen move among `MOVE_UP`, `MOVE_DOWN`, `MOVE_LEFT` or `MOVE_RIGHT`."
      ]
    },
    {
      "cell_type": "code",
      "metadata": {
        "id": "qjDcXkelaG05"
      },
      "source": [
        "def turn (maze_map, maze_width, maze_height, player_location, opponent_location, player_score, opponent_score, pieces_of_cheese, time_allowed) :\n",
        "    global route\n",
        "    global routing_table\n",
        "    global target\n",
        "    if player_location == target:\n",
        "      target=pieces_of_cheese[0]\n",
        "      route=[]\n",
        "      routing_table = traversal(player_location, maze_map)\n",
        "      finds_route(routing_table, player_location, pieces_of_cheese[0])\n",
        "      return move_bfs(player_location)\n",
        "    else :\n",
        "      return move_bfs(player_location)\n",
        "\n",
        "    #Cherche en profondeur\n",
        "    #return random_move_dfs(player_location, maze_map)"
      ],
      "execution_count": null,
      "outputs": []
    },
    {
      "cell_type": "markdown",
      "metadata": {
        "id": "uAu_Njg0MoA4"
      },
      "source": []
    }
  ]
}
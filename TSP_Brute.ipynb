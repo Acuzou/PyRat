{
  "nbformat": 4,
  "nbformat_minor": 0,
  "metadata": {
    "colab": {
      "provenance": []
    },
    "kernelspec": {
      "name": "python3",
      "display_name": "Python 3"
    }
  },
  "cells": [
    {
      "cell_type": "markdown",
      "metadata": {
        "id": "2TuyPXbywCpq"
      },
      "source": [
        "<h1><b><center>How to use this file with PyRat?</center></b></h1>"
      ]
    },
    {
      "cell_type": "markdown",
      "metadata": {
        "id": "vGFn7-8SwIiR"
      },
      "source": [
        "Google Colab provides an efficient environment for writing codes collaboratively with your group. For us, teachers, it allows to come and see your advancement from time to time, and help you solve some bugs if needed.\n",
        "\n",
        "The PyRat software is a complex environment that takes as an input an AI file (as this file). It requires some resources as well as a few Python libraries, so we have installed it on a virtual machine for you.\n",
        "\n",
        "PyRat is a local program, and Google Colab is a distant tool. Therefore, we need to indicate the PyRat software where to get your code! In order to submit your program to PyRat, you should follow the following steps:\n",
        "\n",
        "1.   In this notebook, click on *Share* (top right corner of the navigator). Then, change sharing method to *Anyone with the link*, and copy the sharing link;\n",
        "2.   On the machine where the PyRat software is installed, start a terminal and navigate to your PyRat directory;\n",
        "3.   Run the command `python ./pyrat.py --rat \"<link>\" <options>`, where `<link>` is the share link copied in step 1. (put it between quotes), and `<options>` are other PyRat options you may need."
      ]
    },
    {
      "cell_type": "markdown",
      "metadata": {
        "id": "p9zlfF1iafqy"
      },
      "source": [
        "<h1><b><center>Pre-defined constants</center></b></h1>"
      ]
    },
    {
      "cell_type": "markdown",
      "metadata": {
        "id": "U7btUw_naI-R"
      },
      "source": [
        "A PyRat program should -- at each turn -- decide in which direction to move. This is done in the `turn` function later in this document, which should return one of the following constants:"
      ]
    },
    {
      "cell_type": "code",
      "metadata": {
        "id": "bnoalRWgaGxP"
      },
      "source": [
        "MOVE_DOWN = 'D'\n",
        "MOVE_LEFT = 'L'\n",
        "MOVE_RIGHT = 'R'\n",
        "MOVE_UP = 'U'"
      ],
      "execution_count": null,
      "outputs": []
    },
    {
      "cell_type": "markdown",
      "metadata": {
        "id": "tQF4Icesbar5"
      },
      "source": [
        "<h1><b><center>Your coding area</center></b></h1>"
      ]
    },
    {
      "cell_type": "markdown",
      "metadata": {
        "id": "dcKT5Itcbin1"
      },
      "source": [
        "Please put your functions, imports, constants, etc. between this text and the PyRat functions below. You can add as many code cells as you want, we just ask that you keep things organized (one function per cell, commented, etc.), so that it is easier for the teachers to help you debug your code!"
      ]
    },
    {
      "cell_type": "markdown",
      "metadata": {
        "id": "55cJ3fciR6d-"
      },
      "source": []
    },
    {
      "cell_type": "code",
      "metadata": {
        "id": "ghzFngwacFNa"
      },
      "source": [
        "#Importation module\n",
        "import random as rd\n",
        "import heapq\n",
        "import multiprocessing\n",
        "\n",
        "#python pyrat.py --rat \"\" --python \"https://colab.research.google.com/drive/1tSogjcQWO2cdv_WcRPsMTqhfp5cWVnFE?usp=sharing\" --tests 100 --nodrawing -x 10 -y 10 -p 6 -md 0.0 --synchronous\n",
        "#python pyrat.py --rat \"https://colab.research.google.com/drive/1tSogjcQWO2cdv_WcRPsMTqhfp5cWVnFE?usp=sharing\" -md 0.0 -p 1 -x 5 -y 5 --random_seed 1\n",
        "#python pyrat.py --rat \"https://colab.research.google.com/drive/1FLItxuxxs9-53U7gVDPxSxR3OlYIh1FS?usp=sharing\" -p 5 -x 15 -y 15 -d 0.5 --random_seed 1\n",
        "#python pyrat.py --rat \"https://colab.research.google.com/drive/1FLItxuxxs9-53U7gVDPxSxR3OlYIh1FS?usp=sharing\" -p 4 -x 7 -y 7 -d 0.0 --random_seed 1"
      ],
      "execution_count": null,
      "outputs": []
    },
    {
      "cell_type": "code",
      "metadata": {
        "id": "vf5T0RzaURSS"
      },
      "source": [
        "#Variable global\n",
        "meta_graph = dict()\n",
        "routes = list()\n",
        "best_path = list()\n",
        "best_length = 1e40\n",
        "index_route=-1"
      ],
      "execution_count": null,
      "outputs": []
    },
    {
      "cell_type": "code",
      "metadata": {
        "id": "soOxltZdcFEa"
      },
      "source": [
        "def move_from_locations(source_location, target_location):\n",
        "\n",
        "  difference = (target_location[0] - source_location[0], target_location[1] - source_location[1])\n",
        "  if difference == (0, -1):\n",
        "    return MOVE_DOWN\n",
        "  elif difference == (0, 1):\n",
        "    return MOVE_UP\n",
        "  elif difference == (1, 0):\n",
        "    return MOVE_RIGHT\n",
        "  elif difference == (-1, 0):\n",
        "    return MOVE_LEFT\n",
        "  else :\n",
        "    raise Exception(\"Impossible move\")"
      ],
      "execution_count": null,
      "outputs": []
    },
    {
      "cell_type": "code",
      "metadata": {
        "id": "AA3wkSVAMNse"
      },
      "source": [
        "def dijkstra(player_location, maze_map):\n",
        "  #initialize\n",
        "  priority_queue = list()\n",
        "  visited_locations=list()\n",
        "  heapq.heappush(priority_queue, (0, (player_location, None)))\n",
        "  routing_table = dict()\n",
        "  #algorithm loop\n",
        "  while priority_queue != list() and len(routing_table)!=len(maze_map):\n",
        "    distance, vertices = heapq.heappop(priority_queue)\n",
        "    visited_locations.append(vertices[0])\n",
        "    routing_table[vertices[0]] = vertices[1]\n",
        "    #Parcours les voisins de v[0] = current_location\n",
        "    for neighbor in maze_map[vertices[0]].keys():\n",
        "      distance_of_neighbor = distance + maze_map[vertices[0]][neighbor]\n",
        "      if neighbor not in visited_locations:\n",
        "        heapq.heappush(priority_queue, (distance_of_neighbor, (neighbor, vertices[0])))\n",
        "\n",
        "  return routing_table"
      ],
      "execution_count": null,
      "outputs": []
    },
    {
      "cell_type": "code",
      "metadata": {
        "id": "KlAadyhjYF8A"
      },
      "source": [
        "def finds_route(maze_map, routing_table, source_location, target_location):\n",
        "  '''Renvoie la distance et la route de source_location à targe_location dans une liste de positions'''\n",
        "  route = list()\n",
        "  location = target_location\n",
        "  distance  = 0\n",
        "  #On parcours le routing_table à l'envers à partir du fromage jusqu'au source_location\n",
        "  while location != source_location:\n",
        "    route.insert(0, location)\n",
        "    ##print(source_location,location,routing_table[location])\n",
        "    distance += maze_map[routing_table[location]][location]\n",
        "    #Location devient son parent\n",
        "    location = routing_table[location]\n",
        "\n",
        "  route.insert(0, source_location)\n",
        "\n",
        "  return route, distance"
      ],
      "execution_count": null,
      "outputs": []
    },
    {
      "cell_type": "markdown",
      "metadata": {
        "id": "KVVMrcBxR_Tn"
      },
      "source": []
    },
    {
      "cell_type": "code",
      "metadata": {
        "id": "lPAMAzSGcHVh"
      },
      "source": [
        "def build_meta_graph(maze_map, center_location, pieces_of_cheese):\n",
        "  '''Return the meta-graph and all necessary routing tables'''\n",
        "  #Meta Graph est un dictionnaire de dictionnaire de tuple (distance, route_associé)\n",
        "  #On cherche à créer un graph complèt ne contenant que des fromages et la position initiale\n",
        "\n",
        "  global meta_graph\n",
        "  locations = c.deepcopy(pieces_of_cheese)\n",
        "  locations.insert(0, center_location)\n",
        "\n",
        "  for k in range(len(locations)):\n",
        "    #Calcul le routing_table à partir du vertices location\n",
        "    routing_table=dijkstra(locations[k],maze_map)\n",
        "    meta_graph[locations[k]]=dict()\n",
        "\n",
        "    for i in range(len(locations)):\n",
        "      if i != k:\n",
        "        #Route_ki est la route réel à partir entre location[k] et location[i] et distance est sa distance totale\n",
        "        route_ki, distance = finds_route(maze_map, routing_table, locations[k], locations[i])\n",
        "\n",
        "        meta_graph[locations[k]][locations[i]] = (distance, route_ki)\n",
        "      else:\n",
        "        meta_graph[locations[k]][locations[i]] = (0,[])\n"
      ],
      "execution_count": null,
      "outputs": []
    },
    {
      "cell_type": "code",
      "metadata": {
        "id": "ltEJx6M1M06Q"
      },
      "source": [
        "def meta_graph_route_to_route() :\n",
        "  # Return the sequence of locations in the maze to perform a route in the meta-graph\n",
        "  global routes\n",
        "  global best_path\n",
        "  global meta_graph\n",
        "\n",
        "  for i in range(len(best_path)-1):\n",
        "    routes += meta_graph[best_path[i]][best_path[i+1]][1][1:]\n"
      ],
      "execution_count": null,
      "outputs": []
    },
    {
      "cell_type": "code",
      "metadata": {
        "id": "A4zJSdTTbrRC"
      },
      "source": [
        "def brute(remaining, current_position, path_so_far, weight_so_far):\n",
        "  '''Actualise les variables globales best_lenght et best_path'''\n",
        "  global best_length\n",
        "  global best_path\n",
        "  global meta_graph\n",
        "\n",
        "  if remaining==[]:\n",
        "      if weight_so_far < best_length:\n",
        "          best_length = weight_so_far\n",
        "          ##print(best_lenght)\n",
        "          best_path = path_so_far\n",
        "  else:\n",
        "      for i in range(len(remaining)):\n",
        "        brute(remaining[:i]+remaining[i+1:], remaining[i], path_so_far + [remaining[i]], weight_so_far + meta_graph[current_position][remaining[i]][0])"
      ],
      "execution_count": null,
      "outputs": []
    },
    {
      "cell_type": "code",
      "metadata": {
        "id": "i7cf4iHjAPSi"
      },
      "source": [
        "def move(player_location,index):\n",
        "  global routes\n",
        "  return move_from_locations(routes[index], routes[index + 1])\n"
      ],
      "execution_count": null,
      "outputs": []
    },
    {
      "cell_type": "markdown",
      "metadata": {
        "id": "EjL8BEixcF3j"
      },
      "source": [
        "<h1><b><center>PyRat functions</center></b></h1>"
      ]
    },
    {
      "cell_type": "markdown",
      "metadata": {
        "id": "T1L9f0UAcN0p"
      },
      "source": [
        "The `preprocessing` function is called at the very start of a game. It is attributed a longer time compared to `turn`, which allows you to perform intensive computations. If you store the results of these computations into **global** variables, you will be able to reuse them in the `turn` function.\n",
        "\n",
        "*Input:*\n",
        "*   `maze_map` -- **dict(pair(int, int), dict(pair(int, int), int))** -- The map of the maze where the game takes place. This structure associates each cell with the dictionry of its neighbors. In that dictionary of neighbors, keys are cell coordinates, and associated values the number of moves required to reach that neighbor. As an example, `list(maze_map[(0, 0)].keys())` returns the list of accessible cells from `(0, 0)`. Then, if for example `(0, 1)` belongs to that list, one can access the number of moves to go from `(0, 0)` to `(0, 1)` by the code `maze_map[(0, 0)][0, 1)]`.\n",
        "*   `maze_width` -- **int** -- The width of the maze, in number of cells.\n",
        "*   `maze_height` -- **int** -- The height of the maze, in number of cells.\n",
        "*   `player_location` -- **pair(int, int)** -- The initial location of your character in the maze.\n",
        "*   `opponent_location` -- **pair(int,int)** -- The initial location of your opponent's character in the maze.\n",
        "*   `pieces_of_cheese` -- **list(pair(int, int))** -- The initial location of all pieces of cheese in the maze.\n",
        "*   `time_allowed` -- **float** -- The time you can take for preprocessing before the game starts checking for moves.\n",
        "\n",
        "*Output:*\n",
        "*   This function does not output anything."
      ]
    },
    {
      "cell_type": "code",
      "metadata": {
        "id": "vFa29qLAcOUb"
      },
      "source": [
        "def preprocessing (maze_map, maze_width, maze_height, player_location, opponent_location, pieces_of_cheese, time_allowed) :\n",
        "\n",
        "    global meta_graph\n",
        "    global routing_table\n",
        "    global route\n",
        "    # Example prints that appear in the shell only at the beginning of the game\n",
        "    # Remove them when you write your own program\n",
        "\n",
        "    build_meta_graph(maze_map, player_location, pieces_of_cheese)\n",
        "    ##print('meta=',  meta_graph)\n",
        "    remaining = list(meta_graph.keys())\n",
        "    brute(remaining, player_location, list(), 0)\n",
        "    meta_graph_route_to_route()\n",
        "    routes.insert(0,player_location)\n",
        "    ##print('routes=', routes)"
      ],
      "execution_count": null,
      "outputs": []
    },
    {
      "cell_type": "markdown",
      "metadata": {
        "id": "QRi94kuZaVcx"
      },
      "source": [
        "The `turn` function is called each time the game is waiting\n",
        "for the player to make a decision (*i.e.*, to return a move among those defined above).\n",
        "\n",
        "*Input:*\n",
        "*   `maze_map` -- **dict(pair(int, int), dict(pair(int, int), int))** -- The map of the maze. It is the same as in the `preprocessing` function, just given here again for convenience.\n",
        "*   `maze_width` -- **int** -- The width of the maze, in number of cells.\n",
        "*   `maze_height` -- **int** -- The height of the maze, in number of cells.\n",
        "*   `player_location` -- **pair(int, int)** -- The current location of your character in the maze.\n",
        "*   `opponent_location` -- **pair(int,int)** -- The current location of your opponent's character in the maze.\n",
        "*   `player_score` -- **float** -- Your current score.\n",
        "*   `opponent_score` -- **float** -- The opponent's current score.\n",
        "*   `pieces_of_cheese` -- **list(pair(int, int))** -- The location of remaining pieces of cheese in the maze.\n",
        "*   `time_allowed` -- **float** -- The time you can take to return a move to apply before another time starts automatically.\n",
        "\n",
        "*Output:*\n",
        "*   A chosen move among `MOVE_UP`, `MOVE_DOWN`, `MOVE_LEFT` or `MOVE_RIGHT`."
      ]
    },
    {
      "cell_type": "markdown",
      "metadata": {
        "id": "K7O3wjfsRs2R"
      },
      "source": []
    },
    {
      "cell_type": "code",
      "metadata": {
        "id": "qjDcXkelaG05"
      },
      "source": [
        "def turn (maze_map, maze_width, maze_height, player_location, opponent_location, player_score, opponent_score, pieces_of_cheese, time_allowed) :\n",
        "  global index_route\n",
        "  index_route+=1\n",
        "  return move(player_location,index_route)"
      ],
      "execution_count": null,
      "outputs": []
    },
    {
      "cell_type": "markdown",
      "metadata": {
        "id": "uAu_Njg0MoA4"
      },
      "source": []
    }
  ]
}
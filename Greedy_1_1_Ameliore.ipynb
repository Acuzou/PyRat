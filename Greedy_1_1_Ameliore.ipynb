{
  "nbformat": 4,
  "nbformat_minor": 0,
  "metadata": {
    "colab": {
      "provenance": []
    },
    "kernelspec": {
      "name": "python3",
      "display_name": "Python 3"
    }
  },
  "cells": [
    {
      "cell_type": "markdown",
      "metadata": {
        "id": "2TuyPXbywCpq"
      },
      "source": [
        "<h1><b><center>How to use this file with PyRat?</center></b></h1>"
      ]
    },
    {
      "cell_type": "markdown",
      "metadata": {
        "id": "vGFn7-8SwIiR"
      },
      "source": [
        "Google Colab provides an efficient environment for writing codes collaboratively with your group. For us, teachers, it allows to come and see your advancement from time to time, and help you solve some bugs if needed.\n",
        "\n",
        "The PyRat software is a complex environment that takes as an input an AI file (as this file). It requires some resources as well as a few Python libraries, so we have installed it on a virtual machine for you.\n",
        "\n",
        "PyRat is a local program, and Google Colab is a distant tool. Therefore, we need to indicate the PyRat software where to get your code! In order to submit your program to PyRat, you should follow the following steps:\n",
        "\n",
        "1.   In this notebook, click on *Share* (top right corner of the navigator). Then, change sharing method to *Anyone with the link*, and copy the sharing link;\n",
        "2.   On the machine where the PyRat software is installed, start a terminal and navigate to your PyRat directory;\n",
        "3.   Run the command `python ./pyrat.py --rat \"<link>\" <options>`, where `<link>` is the share link copied in step 1. (put it between quotes), and `<options>` are other PyRat options you may need."
      ]
    },
    {
      "cell_type": "markdown",
      "metadata": {
        "id": "p9zlfF1iafqy"
      },
      "source": [
        "<h1><b><center>Pre-defined constants</center></b></h1>"
      ]
    },
    {
      "cell_type": "markdown",
      "metadata": {
        "id": "U7btUw_naI-R"
      },
      "source": [
        "A PyRat program should -- at each turn -- decide in which direction to move. This is done in the `turn` function later in this document, which should return one of the following constants:"
      ]
    },
    {
      "cell_type": "code",
      "metadata": {
        "id": "bnoalRWgaGxP"
      },
      "source": [
        "MOVE_DOWN = 'D'\n",
        "MOVE_LEFT = 'L'\n",
        "MOVE_RIGHT = 'R'\n",
        "MOVE_UP = 'U'"
      ],
      "execution_count": null,
      "outputs": []
    },
    {
      "cell_type": "markdown",
      "metadata": {
        "id": "tQF4Icesbar5"
      },
      "source": [
        "<h1><b><center>Your coding area</center></b></h1>"
      ]
    },
    {
      "cell_type": "markdown",
      "metadata": {
        "id": "dcKT5Itcbin1"
      },
      "source": [
        "Please put your functions, imports, constants, etc. between this text and the PyRat functions below. You can add as many code cells as you want, we just ask that you keep things organized (one function per cell, commented, etc.), so that it is easier for the teachers to help you debug your code!"
      ]
    },
    {
      "cell_type": "markdown",
      "metadata": {
        "id": "55cJ3fciR6d-"
      },
      "source": []
    },
    {
      "cell_type": "code",
      "metadata": {
        "id": "ghzFngwacFNa"
      },
      "source": [
        "#Importation module\n",
        "import random as rd\n",
        "import heapq\n",
        "import multiprocessing\n",
        "import math\n",
        "\n",
        "#Comparaison recherche profondeur et largeur\n",
        "#python pyrat.py --rat \"https://colab.research.google.com/drive/1FLItxuxxs9-53U7gVDPxSxR3OlYIh1FS?usp=sharing\" --python \"https://colab.research.google.com/drive/1tSogjcQWO2cdv_WcRPsMTqhfp5cWVnFE?usp=sharing\" --tests 100 --nodrawing -x 10 -y 10 -p 6 -md 0.0 --synchronous\n",
        "\n",
        "#Commande petit map sans mud avec 1 seule fromage\n",
        "#python pyrat.py --rat \"https://colab.research.google.com/drive/1tSogjcQWO2cdv_WcRPsMTqhfp5cWVnFE?usp=sharing\" -md 0.0 -p 1 -x 5 -y 5 --random_seed 1\n",
        "\n",
        "#Commande petit map avec mud\n",
        "#python pyrat.py --rat \"https://colab.research.google.com/drive/1DWnmUxHDdKjhCSijsUHPfG2FUr_KkStY?usp=sharing\" -p 1 -x 15 -y 15 -d 0.5 --random_seed 1\n",
        "\n",
        "#tsp backt: https://colab.research.google.com/drive/1Dozv-oIxBrDjppposzDPOz0zOd71ur7S?usp=sharing\n",
        "#python pyrat.py --rat \"https://colab.research.google.com/drive/1DWnmUxHDdKjhCSijsUHPfG2FUr_KkStY?usp=sharing\""
      ],
      "execution_count": null,
      "outputs": []
    },
    {
      "cell_type": "code",
      "metadata": {
        "id": "vf5T0RzaURSS"
      },
      "source": [
        "#Variable global\n",
        "targetO=(0,0)\n",
        "target=(0,0)\n",
        "indexroute=0\n",
        "bestD=math.inf\n",
        "bestDO=math.inf\n",
        "meta_graph=dict()\n",
        "locations=list()\n",
        "route = list()\n",
        "all_routes=list()"
      ],
      "execution_count": null,
      "outputs": []
    },
    {
      "cell_type": "code",
      "metadata": {
        "id": "soOxltZdcFEa"
      },
      "source": [
        "def move_from_locations(source_location, target_location):\n",
        "\n",
        "  difference = (target_location[0] - source_location[0], target_location[1] - source_location[1])\n",
        "  if difference == (0, -1):\n",
        "    return MOVE_DOWN\n",
        "  elif difference == (0, 1):\n",
        "    return MOVE_UP\n",
        "  elif difference == (1, 0):\n",
        "    return MOVE_RIGHT\n",
        "  elif difference == (-1, 0):\n",
        "    return MOVE_LEFT\n",
        "  else :\n",
        "    raise Exception(\"Impossible move\")"
      ],
      "execution_count": null,
      "outputs": []
    },
    {
      "cell_type": "markdown",
      "metadata": {
        "id": "KVVMrcBxR_Tn"
      },
      "source": []
    },
    {
      "cell_type": "code",
      "metadata": {
        "id": "2qsy-2kscEtp"
      },
      "source": [
        "def dijkstra(player_location, maze_map):\n",
        "  #initialize\n",
        "  priority_queue = list()\n",
        "  visited_locations=list()\n",
        "  heapq.heappush(priority_queue, (0, (player_location, None)))\n",
        "  routing_table = dict()\n",
        "  #algorithm loop\n",
        "  while priority_queue != list() and len(routing_table)!=len(maze_map):\n",
        "    distance, vertices = heapq.heappop(priority_queue)\n",
        "    visited_locations.append(vertices[0])\n",
        "    routing_table[vertices[0]] = vertices[1]\n",
        "    #Parcours les voisins de v[0] = current_location\n",
        "    for neighbor in maze_map[vertices[0]].keys():\n",
        "      distance_of_neighbor = distance + maze_map[vertices[0]][neighbor]\n",
        "      if neighbor not in visited_locations:\n",
        "        heapq.heappush(priority_queue, (distance_of_neighbor, (neighbor, vertices[0])))\n",
        "  ##print(routing_table)\n",
        "  return routing_table"
      ],
      "execution_count": null,
      "outputs": []
    },
    {
      "cell_type": "code",
      "metadata": {
        "id": "i7cf4iHjAPSi"
      },
      "source": [
        "def move(player_location):\n",
        "  '''On parcours la liste route pour déplacer le player_location jusqu'au fromage'''\n",
        "  global route\n",
        "  ##print(route)\n",
        "  index = route.index(player_location)\n",
        "\n",
        "  return move_from_locations(route[index], route[index + 1])"
      ],
      "execution_count": null,
      "outputs": []
    },
    {
      "cell_type": "code",
      "metadata": {
        "id": "lPAMAzSGcHVh"
      },
      "source": [
        "def build_meta_graph(maze_map, initial_location, pieces_of_cheese):\n",
        "  '''Return the meta-graph and all necessary routing tables'''\n",
        "  #Meta Graph est un dictionnaire de dictionnaire de tuple (distance, route_associé)\n",
        "  global meta_graph\n",
        "  locations = pieces_of_cheese\n",
        "  locations.insert(0, initial_location)\n",
        "  for k in range(len(locations)):\n",
        "    routing_table=dijkstra(locations[k], maze_map)\n",
        "    meta_graph[locations[k]]=dict()\n",
        "    #On commence à 1 car on ne peut pas utiliser le find_route pour aller d'un fromage à la position initiale (Notion de parent)\n",
        "    for i in range(len(locations)):\n",
        "      if i != k:\n",
        "        route_ki, distance = finds_route(maze_map, routing_table, locations[k], locations[i])\n",
        "        meta_graph[locations[k]][locations[i]] = (distance, route_ki)\n",
        "      else:\n",
        "        meta_graph[locations[k]][locations[i]] = (0,[])"
      ],
      "execution_count": null,
      "outputs": []
    },
    {
      "cell_type": "code",
      "metadata": {
        "id": "KlAadyhjYF8A"
      },
      "source": [
        "def finds_route(maze_map, routing_table, source_location, target_location):\n",
        "  '''Renvoie la distance et la route de source_location à targe_location dans une liste de positions'''\n",
        "  route = list()\n",
        "  location = target_location\n",
        "  distance  = 0\n",
        "  #On parcours le routing_table à l'envers à partir du fromage jusqu'au source_location\n",
        "  while location != source_location:\n",
        "    route.insert(0, location)\n",
        "    ##print(source_location,location,routing_table[location])\n",
        "    distance += maze_map[routing_table[location]][location]\n",
        "    #Location devient son parent\n",
        "    location = routing_table[location]\n",
        "\n",
        "  route.insert(0, source_location)\n",
        "\n",
        "  return route, distance"
      ],
      "execution_count": null,
      "outputs": []
    },
    {
      "cell_type": "code",
      "metadata": {
        "id": "-zqD-yGA7J4Z"
      },
      "source": [
        "def finds_route_bis(routing_table, source_location, target_location):\n",
        "  global route\n",
        "  if source_location == target_location:\n",
        "    return route.insert(0, target_location)\n",
        "  else:\n",
        "    route.insert(0, target_location)\n",
        "    return finds_route_bis(routing_table, source_location, routing_table[target_location])"
      ],
      "execution_count": null,
      "outputs": []
    },
    {
      "cell_type": "code",
      "metadata": {
        "id": "Q4Yfq0cvzQOI"
      },
      "source": [
        "def screw_the_opponent(maze_map, maze_width, maze_height, player_location, opponent_location, player_score, opponent_score, pieces_of_cheese, time_allowed):\n",
        "  global route, target, bestD, meta_graph, locations, targetO, bestDO, all_routes, indexroute\n",
        "  all_routesO=[]\n",
        "  routing_tableO = dijkstra(opponent_location, maze_map)\n",
        "  for c in pieces_of_cheese:\n",
        "    routec=[]\n",
        "    finds_route_bis(routing_tableO, opponent_location, c)\n",
        "    all_routesO.append(routec)\n",
        "  bestDO=math.inf\n",
        "  o=0\n",
        "  for k in all_routesO:\n",
        "    dist=0\n",
        "    d=0\n",
        "    while dist<bestDO and d<len(k):\n",
        "      dist+=maze_map[k[d]][k[d+1]]\n",
        "      d+=1\n",
        "    if dist<bestDO:\n",
        "      bestDO=dist\n",
        "      o=all_routesO.index(k)\n",
        "  all_routes=[]\n",
        "  routing_table = dijkstra(player_location, maze_map)\n",
        "  for c in pieces_of_cheese:\n",
        "    routec=[]\n",
        "    finds_route_bis(routing_table, player_location, c)\n",
        "    all_routes.append(routec)\n",
        "  bestD=math.inf\n",
        "  indexroute=0\n",
        "  for k in all_routes:\n",
        "    dist=0\n",
        "    d=0\n",
        "    while dist<bestD and d<len(k):\n",
        "      dist+=maze_map[k[d]][k[d+1]]\n",
        "      d+=1\n",
        "    if dist<bestD:\n",
        "      bestD=dist\n",
        "      indexroute=all_routes.index(k)\n",
        "  return bestDO>bestD"
      ],
      "execution_count": null,
      "outputs": []
    },
    {
      "cell_type": "markdown",
      "metadata": {
        "id": "EjL8BEixcF3j"
      },
      "source": [
        "<h1><b><center>PyRat functions</center></b></h1>"
      ]
    },
    {
      "cell_type": "markdown",
      "metadata": {
        "id": "T1L9f0UAcN0p"
      },
      "source": [
        "The `preprocessing` function is called at the very start of a game. It is attributed a longer time compared to `turn`, which allows you to perform intensive computations. If you store the results of these computations into **global** variables, you will be able to reuse them in the `turn` function.\n",
        "\n",
        "*Input:*\n",
        "*   `maze_map` -- **dict(pair(int, int), dict(pair(int, int), int))** -- The map of the maze where the game takes place. This structure associates each cell with the dictionry of its neighbors. In that dictionary of neighbors, keys are cell coordinates, and associated values the number of moves required to reach that neighbor. As an example, `list(maze_map[(0, 0)].keys())` returns the list of accessible cells from `(0, 0)`. Then, if for example `(0, 1)` belongs to that list, one can access the number of moves to go from `(0, 0)` to `(0, 1)` by the code `maze_map[(0, 0)][0, 1)]`.\n",
        "*   `maze_width` -- **int** -- The width of the maze, in number of cells.\n",
        "*   `maze_height` -- **int** -- The height of the maze, in number of cells.\n",
        "*   `player_location` -- **pair(int, int)** -- The initial location of your character in the maze.\n",
        "*   `opponent_location` -- **pair(int,int)** -- The initial location of your opponent's character in the maze.\n",
        "*   `pieces_of_cheese` -- **list(pair(int, int))** -- The initial location of all pieces of cheese in the maze.\n",
        "*   `time_allowed` -- **float** -- The time you can take for preprocessing before the game starts checking for moves.\n",
        "\n",
        "*Output:*\n",
        "*   This function does not output anything."
      ]
    },
    {
      "cell_type": "code",
      "metadata": {
        "id": "vFa29qLAcOUb"
      },
      "source": [
        "def preprocessing (maze_map, maze_width, maze_height, player_location, opponent_location, pieces_of_cheese, time_allowed) :\n",
        "  global target, route, bestD, meta_graph, locations\n",
        "  locations=pieces_of_cheese\n",
        "  build_meta_graph(maze_map, player_location, pieces_of_cheese)\n",
        "  bestD=math.inf\n",
        "  i=0\n",
        "  for k in pieces_of_cheese:\n",
        "    dist=meta_graph[player_location][k][0]\n",
        "    if dist<bestD and k!=player_location:\n",
        "      bestD=dist\n",
        "      i=list(meta_graph[player_location].keys()).index(k)\n",
        "      route=meta_graph[player_location][k][1]\n",
        "  target=locations[i]"
      ],
      "execution_count": null,
      "outputs": []
    },
    {
      "cell_type": "markdown",
      "metadata": {
        "id": "QRi94kuZaVcx"
      },
      "source": [
        "The `turn` function is called each time the game is waiting\n",
        "for the player to make a decision (*i.e.*, to return a move among those defined above).\n",
        "\n",
        "*Input:*\n",
        "*   `maze_map` -- **dict(pair(int, int), dict(pair(int, int), int))** -- The map of the maze. It is the same as in the `preprocessing` function, just given here again for convenience.\n",
        "*   `maze_width` -- **int** -- The width of the maze, in number of cells.\n",
        "*   `maze_height` -- **int** -- The height of the maze, in number of cells.\n",
        "*   `player_location` -- **pair(int, int)** -- The current location of your character in the maze.\n",
        "*   `opponent_location` -- **pair(int,int)** -- The current location of your opponent's character in the maze.\n",
        "*   `player_score` -- **float** -- Your current score.\n",
        "*   `opponent_score` -- **float** -- The opponent's current score.\n",
        "*   `pieces_of_cheese` -- **list(pair(int, int))** -- The location of remaining pieces of cheese in the maze.\n",
        "*   `time_allowed` -- **float** -- The time you can take to return a move to apply before another time starts automatically.\n",
        "\n",
        "*Output:*\n",
        "*   A chosen move among `MOVE_UP`, `MOVE_DOWN`, `MOVE_LEFT` or `MOVE_RIGHT`."
      ]
    },
    {
      "cell_type": "code",
      "metadata": {
        "id": "qjDcXkelaG05"
      },
      "source": [
        "def turn (maze_map, maze_width, maze_height, player_location, opponent_location, player_score, opponent_score, pieces_of_cheese, time_allowed) :\n",
        "  global route, routing_table, target, bestD, meta_graph, locations, targetO, bestDO, all_routes, indexroute\n",
        "  if screw_the_opponent(maze_map, maze_width, maze_height, player_location, opponent_location, player_score, opponent_score, pieces_of_cheese, time_allowed):\n",
        "    target=targetO\n",
        "    route=meta_graph[player_location][target][1]\n",
        "    return move(player_location)\n",
        "\n",
        "  elif target not in pieces_of_cheese and player_location!=target:\n",
        "    route=all_routes[indexroute]\n",
        "    target=locations[indexroute]\n",
        "    return move(player_location)\n",
        "\n",
        "  elif player_location==target:\n",
        "    bestD=math.inf\n",
        "    i=0\n",
        "    for k in pieces_of_cheese:\n",
        "      dist=meta_graph[player_location][k][0]\n",
        "      if dist<bestD and k!=player_location:\n",
        "        bestD=dist\n",
        "        i=list(meta_graph[player_location].keys()).index(k)\n",
        "        route=meta_graph[player_location][k][1]\n",
        "    target=locations[i]\n",
        "    return move(player_location)\n",
        "\n",
        "  else :\n",
        "    return move(player_location)"
      ],
      "execution_count": null,
      "outputs": []
    },
    {
      "cell_type": "markdown",
      "metadata": {
        "id": "uAu_Njg0MoA4"
      },
      "source": []
    }
  ]
}
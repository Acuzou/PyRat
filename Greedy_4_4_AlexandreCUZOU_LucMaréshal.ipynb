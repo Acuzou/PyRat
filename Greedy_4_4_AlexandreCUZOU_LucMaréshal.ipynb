{
  "nbformat": 4,
  "nbformat_minor": 0,
  "metadata": {
    "colab": {
      "provenance": []
    },
    "kernelspec": {
      "name": "python3",
      "display_name": "Python 3"
    }
  },
  "cells": [
    {
      "cell_type": "markdown",
      "metadata": {
        "id": "2TuyPXbywCpq"
      },
      "source": [
        "<h1><b><center>How to use this file with PyRat?</center></b></h1>"
      ]
    },
    {
      "cell_type": "markdown",
      "metadata": {
        "id": "vGFn7-8SwIiR"
      },
      "source": [
        "Google Colab provides an efficient environment for writing codes collaboratively with your group. For us, teachers, it allows to come and see your advancement from time to time, and help you solve some bugs if needed.\n",
        "\n",
        "The PyRat software is a complex environment that takes as an input an AI file (as this file). It requires some resources as well as a few Python libraries, so we have installed it on a virtual machine for you.\n",
        "\n",
        "PyRat is a local program, and Google Colab is a distant tool. Therefore, we need to indicate the PyRat software where to get your code! In order to submit your program to PyRat, you should follow the following steps:\n",
        "\n",
        "1.   In this notebook, click on *Share* (top right corner of the navigator). Then, change sharing method to *Anyone with the link*, and copy the sharing link;\n",
        "2.   On the machine where the PyRat software is installed, start a terminal and navigate to your PyRat directory;\n",
        "3.   Run the command `python ./pyrat.py --rat \"<link>\" <options>`, where `<link>` is the share link copied in step 1. (put it between quotes), and `<options>` are other PyRat options you may need."
      ]
    },
    {
      "cell_type": "markdown",
      "metadata": {
        "id": "p9zlfF1iafqy"
      },
      "source": [
        "<h1><b><center>Pre-defined constants</center></b></h1>"
      ]
    },
    {
      "cell_type": "markdown",
      "metadata": {
        "id": "U7btUw_naI-R"
      },
      "source": [
        "A PyRat program should -- at each turn -- decide in which direction to move. This is done in the `turn` function later in this document, which should return one of the following constants:"
      ]
    },
    {
      "cell_type": "code",
      "metadata": {
        "id": "bnoalRWgaGxP"
      },
      "source": [
        "MOVE_DOWN = 'D'\n",
        "MOVE_LEFT = 'L'\n",
        "MOVE_RIGHT = 'R'\n",
        "MOVE_UP = 'U'"
      ],
      "execution_count": null,
      "outputs": []
    },
    {
      "cell_type": "markdown",
      "metadata": {
        "id": "tQF4Icesbar5"
      },
      "source": [
        "<h1><b><center>Your coding area</center></b></h1>"
      ]
    },
    {
      "cell_type": "markdown",
      "metadata": {
        "id": "dcKT5Itcbin1"
      },
      "source": [
        "Please put your functions, imports, constants, etc. between this text and the PyRat functions below. You can add as many code cells as you want, we just ask that you keep things organized (one function per cell, commented, etc.), so that it is easier for the teachers to help you debug your code!"
      ]
    },
    {
      "cell_type": "markdown",
      "metadata": {
        "id": "55cJ3fciR6d-"
      },
      "source": []
    },
    {
      "cell_type": "code",
      "metadata": {
        "id": "ghzFngwacFNa"
      },
      "source": [
        "#Importation module\n",
        "import random as rd\n",
        "import heapq\n",
        "import copy as c\n",
        "\n",
        "#python pyrat.py --rat \"\" --python \"https://colab.research.google.com/drive/1tSogjcQWO2cdv_WcRPsMTqhfp5cWVnFE?usp=sharing\" --tests 100 --nodrawing -x 10 -y 10 -p 6 -md 0.0 --synchronous\n",
        "#python pyrat.py --rat \"https://colab.research.google.com/drive/1tSogjcQWO2cdv_WcRPsMTqhfp5cWVnFE?usp=sharing\" -md 0.0 -p 1 -x 5 -y 5 --random_seed 1\n",
        "#python pyrat.py --rat \"https://colab.research.google.com/drive/1FLItxuxxs9-53U7gVDPxSxR3OlYIh1FS?usp=sharing\" -p 10 -x 15 -y 15 -d 0.5 --random_seed 1\n",
        "\n",
        "#python pyrat.py --rat \"https://colab.research.google.com/drive/15eVr2OvcvjBGmvbJF-BwJxVDCFLEssWX?usp=sharing\" -p 9 -x 15 -y 15 --random_seed 1\n",
        "#python pyrat.py --rat \"https://colab.research.google.com/drive/15eVr2OvcvjBGmvbJF-BwJxVDCFLEssWX?usp=sharing\" --tests 1 --nodrawing -x 50 -y 50 -p 34\n",
        "#python pyrat.py --rat \"https://colab.research.google.com/drive/15eVr2OvcvjBGmvbJF-BwJxVDCFLEssWX?usp=sharing\" --python \"https://colab.research.google.com/drive/1tSogjcQWO2cdv_WcRPsMTqhfp5cWVnFE?usp=sharing\" --tests 100 --nodrawing -x 10 -y 10 -p 6 -md 0.0 --synchronous\n",
        "\n",
        "#Greedy 4-4 VS Greedy 1-1\n",
        "#python pyrat.py --rat \"https://colab.research.google.com/drive/15eVr2OvcvjBGmvbJF-BwJxVDCFLEssWX?usp=sharing\"\n",
        "#python pyrat.py --rat \"https://colab.research.google.com/drive/15eVr2OvcvjBGmvbJF-BwJxVDCFLEssWX?usp=sharing\" --python \"https://colab.research.google.com/drive/1KcUmZoO1xkQ477U0p76u628dVORcT25E?usp=sharing\"\n",
        "#python pyrat.py --rat \"https://colab.research.google.com/drive/15eVr2OvcvjBGmvbJF-BwJxVDCFLEssWX?usp=sharing\" --python \"https://colab.research.google.com/drive/1KcUmZoO1xkQ477U0p76u628dVORcT25E?usp=sharing\" --tests 50 --nodrawing -x 10 -y 10 -p 6\n",
        "\n",
        "#Greedy 4-4 VS DFS\n",
        "#python pyrat.py --rat \"https://colab.research.google.com/drive/15eVr2OvcvjBGmvbJF-BwJxVDCFLEssWX?usp=sharing\" --python \"https://colab.research.google.com/drive/1tSogjcQWO2cdv_WcRPsMTqhfp5cWVnFE?usp=sharing\""
      ],
      "execution_count": null,
      "outputs": []
    },
    {
      "cell_type": "markdown",
      "metadata": {
        "id": "-gepwxTv4GJs"
      },
      "source": []
    },
    {
      "cell_type": "code",
      "metadata": {
        "id": "vf5T0RzaURSS"
      },
      "source": [
        "#Variable global\n",
        "meta_graph = dict()\n",
        "routes = list()\n",
        "best_path = list()\n",
        "cheeses_with_score = dict()\n",
        "best_length = 1e40\n",
        "index_route=-1\n",
        "index_cheese = 0\n",
        "remaining = []\n",
        "fluctuant_remaining = []\n",
        "actualize_greedy = False\n",
        "centerphase = True\n",
        "center_route = []\n",
        "index = -1\n",
        "\n",
        "#Indice du nombre de voisin le plus proche à étudier pour le greedy\n",
        "n = 4\n",
        "\n",
        "\n",
        "#Stratégie : Greedy de niveau 4 + Privilégier les régions où la densité de fromage est plus grande + Aller dans le centre"
      ],
      "execution_count": null,
      "outputs": []
    },
    {
      "cell_type": "code",
      "metadata": {
        "id": "soOxltZdcFEa"
      },
      "source": [
        "def move_from_locations(source_location, target_location):\n",
        "\n",
        "  difference = (target_location[0] - source_location[0], target_location[1] - source_location[1])\n",
        "  if difference == (0, -1):\n",
        "    return MOVE_DOWN\n",
        "  elif difference == (0, 1):\n",
        "    return MOVE_UP\n",
        "  elif difference == (1, 0):\n",
        "    return MOVE_RIGHT\n",
        "  elif difference == (-1, 0):\n",
        "    return MOVE_LEFT\n",
        "  else :\n",
        "    raise Exception(\"Impossible move\")"
      ],
      "execution_count": null,
      "outputs": []
    },
    {
      "cell_type": "code",
      "metadata": {
        "id": "HuD2bo1R5N5S"
      },
      "source": [],
      "execution_count": null,
      "outputs": []
    },
    {
      "cell_type": "code",
      "metadata": {
        "id": "AA3wkSVAMNse"
      },
      "source": [
        "def dijkstra(player_location, maze_map):\n",
        "  '''Renvoie la routing table de la maze_map à partir de player_location'''\n",
        "  #initialize\n",
        "  priority_queue = list()\n",
        "  visited_locations=list()\n",
        "  heapq.heappush(priority_queue, (0, (player_location, None)))\n",
        "  routing_table = dict()\n",
        "  #algorithm loop\n",
        "  while priority_queue != list() and len(routing_table)!=len(maze_map):\n",
        "    distance, vertices = heapq.heappop(priority_queue)\n",
        "    visited_locations.append(vertices[0])\n",
        "    routing_table[vertices[0]] = vertices[1]\n",
        "    #Parcours les voisins de v[0] = current_location\n",
        "    for neighbor in maze_map[vertices[0]].keys():\n",
        "      distance_of_neighbor = distance + maze_map[vertices[0]][neighbor]\n",
        "      if neighbor not in visited_locations:\n",
        "        heapq.heappush(priority_queue, (distance_of_neighbor, (neighbor, vertices[0])))\n",
        "\n",
        "  return routing_table"
      ],
      "execution_count": null,
      "outputs": []
    },
    {
      "cell_type": "code",
      "metadata": {
        "id": "P7BOd8m0F65X"
      },
      "source": [],
      "execution_count": null,
      "outputs": []
    },
    {
      "cell_type": "code",
      "metadata": {
        "id": "KlAadyhjYF8A"
      },
      "source": [
        "def finds_route(maze_map, routing_table, source_location, target_location):\n",
        "  '''Renvoie la distance et la route de source_location à targe_location dans une liste de positions'''\n",
        "  route = list()\n",
        "  location = target_location\n",
        "  distance  = 0\n",
        "  #On parcours le routing_table à l'envers à partir du fromage jusqu'au source_location\n",
        "  while location != source_location:\n",
        "    route.insert(0, location)\n",
        "    ##print(source_location,location,routing_table[location])\n",
        "    distance += maze_map[routing_table[location]][location]\n",
        "    #Location devient son parent\n",
        "    location = routing_table[location]\n",
        "\n",
        "  route.insert(0, source_location)\n",
        "\n",
        "  return route, distance"
      ],
      "execution_count": null,
      "outputs": []
    },
    {
      "cell_type": "markdown",
      "metadata": {
        "id": "KVVMrcBxR_Tn"
      },
      "source": []
    },
    {
      "cell_type": "code",
      "metadata": {
        "id": "lPAMAzSGcHVh"
      },
      "source": [
        "def build_meta_graph(maze_map, center_location, pieces_of_cheese):\n",
        "  '''Return the meta-graph and all necessary routing tables'''\n",
        "  #Meta Graph est un dictionnaire de dictionnaire de tuple (distance, route_associé)\n",
        "  #On cherche à créer un graph complèt ne contenant que des fromages et la position initiale\n",
        "\n",
        "  global meta_graph\n",
        "  locations = c.deepcopy(pieces_of_cheese)\n",
        "  locations.insert(0, center_location)\n",
        "\n",
        "  for k in range(len(locations)):\n",
        "    #Calcul le routing_table à partir du vertices location\n",
        "    routing_table=dijkstra(locations[k],maze_map)\n",
        "    meta_graph[locations[k]]=dict()\n",
        "\n",
        "    for i in range(len(locations)):\n",
        "      if i != k:\n",
        "        #Route_ki est la route réel à partir entre location[k] et location[i] et distance est sa distance totale\n",
        "        route_ki, distance = finds_route(maze_map, routing_table, locations[k], locations[i])\n",
        "\n",
        "        meta_graph[locations[k]][locations[i]] = (distance, route_ki)\n",
        "      else:\n",
        "        meta_graph[locations[k]][locations[i]] = (0,[])\n"
      ],
      "execution_count": null,
      "outputs": []
    },
    {
      "cell_type": "code",
      "metadata": {
        "id": "sZ5vccMfUpAJ"
      },
      "source": [],
      "execution_count": null,
      "outputs": []
    },
    {
      "cell_type": "code",
      "metadata": {
        "id": "zWkX9BrHUIKA"
      },
      "source": [
        "\n"
      ],
      "execution_count": null,
      "outputs": []
    },
    {
      "cell_type": "code",
      "metadata": {
        "id": "a7Ile_Qq6unl"
      },
      "source": [
        "def center(player_location, maze_map, center_location, pieces_of_cheese, k):\n",
        "  '''Envoie le player_location dans le centre en debut de partie en prenant les fromages les plus faciles'''\n",
        "\n",
        "  #Determine la route à suivre la plus courte suivant l'algorithme de Dijkstra\n",
        "  routing_table = dijkstra(player_location, maze_map)\n",
        "  route, distance = finds_route(maze_map, routing_table, player_location, center_location)\n",
        "\n",
        "  #On crée une liste que l'on modifié pour ne pas manger deux fois le même fromage dans la phase \"Aller au centre\"\n",
        "  started_cheese = c.deepcopy(pieces_of_cheese)\n",
        "\n",
        "  #Cherche les fromages les plus proches à 3 cases maximum avec un distance max de k de la trajectoire de la route\n",
        "  #On parcours chaque élément de la route vers le centre\n",
        "  for location in route:\n",
        "    index = route.index(location)\n",
        "\n",
        "    #Parcours les voisins de chacun des élements de la route\n",
        "    for first_neighbor in maze_map[location].keys():\n",
        "      dist1 = maze_map[location][first_neighbor]\n",
        "      if first_neighbor in started_cheese and dist1 <= k and first_neighbor not in route:\n",
        "\n",
        "        #On insert la position du premier_voisin dans la route final si celui-ci est un fromage\n",
        "        route = route[:index+1] + [first_neighbor] + route[index:]\n",
        "        started_cheese.remove(first_neighbor)\n",
        "\n",
        "      #Parcours des voisins des premiers voisins\n",
        "      for second_neighbor in maze_map[first_neighbor].keys():\n",
        "        dist2 = dist1 + maze_map[first_neighbor][second_neighbor]\n",
        "        if second_neighbor in started_cheese and dist2 <= k and second_neighbor not in route and first_neighbor not in route:\n",
        "\n",
        "          #De même, on insert le chemin à parcours si les seconds voisins est un fromage\n",
        "          route = route[:index+1] + [first_neighbor,second_neighbor,first_neighbor] + route[index:]\n",
        "          started_cheese.remove(second_neighbor)\n",
        "\n",
        "        #Parcours des voisins des seconds voisins\n",
        "        for third_neighbor in maze_map[second_neighbor].keys():\n",
        "          dist3 = dist2 + maze_map[second_neighbor][third_neighbor]\n",
        "          if second_neighbor in started_cheese and dist3 <= k and third_neighbor not in route and second_neighbor not in route and first_neighbor not in route:\n",
        "\n",
        "            #Idem pour les troisièmes voisins\n",
        "            route = route[:index+1] + [first_neighbor,second_neighbor, third_neighbor, second_neighbor,first_neighbor] + route[index:]\n",
        "            started_cheese.remove(third_neighbor)\n",
        "\n",
        "\n",
        "  return(route)"
      ],
      "execution_count": null,
      "outputs": []
    },
    {
      "cell_type": "code",
      "metadata": {
        "id": "ltEJx6M1M06Q"
      },
      "source": [
        "def density(cheese):\n",
        "  '''Renvoie la densité associé au fromage cheese'''\n",
        "  global meta_graph\n",
        "  global remaining\n",
        "\n",
        "  #Calculer la densité dans le préprocessing\n",
        "\n",
        "  somme_distances = 0\n",
        "  densité = 0\n",
        "\n",
        "  #Calcul la densité de fromage aux alentours de cheese\n",
        "  for other_cheese in remaining:\n",
        "    somme_distances += meta_graph[cheese][other_cheese][0]\n",
        "\n",
        "  #Le choix du facteur 10 et la définition de notre densité sont arbitraire\n",
        "  #On évite de diviser par 0 pour le dernier fromage\n",
        "  densité = 100*len(remaining)/(float(somme_distances) + 0.1)\n",
        "  return densité"
      ],
      "execution_count": null,
      "outputs": []
    },
    {
      "cell_type": "code",
      "metadata": {
        "id": "Pfu9EDqomKEY"
      },
      "source": [],
      "execution_count": null,
      "outputs": []
    },
    {
      "cell_type": "code",
      "metadata": {
        "id": "9RENxnEYl3ZL"
      },
      "source": [
        "def closed_neighbors(location, fluctuant_remaining, n):\n",
        "  '''Return the n-th closest and available neighbors in the meta_graph from location'''\n",
        "  global meta_graph\n",
        "\n",
        "  #Parcours le meta_graph pour crée une minheap des voisins du fromage location suivant la densité des fromages voisins\n",
        "  priority_queue = []\n",
        "\n",
        "  for neighbor in meta_graph[location].keys():\n",
        "    if neighbor in fluctuant_remaining:\n",
        "      heapq.heappush(priority_queue, (meta_graph[location][neighbor][0]*density(neighbor), neighbor))\n",
        "\n",
        "  #Sélectionne les n fromages les plus proches de location\n",
        "  closest = []\n",
        "\n",
        "  for i in range(min(len(priority_queue),n)):\n",
        "    closest.append(heapq.heappop(priority_queue)[1])\n",
        "\n",
        "  return(closest)\n",
        ""
      ],
      "execution_count": null,
      "outputs": []
    },
    {
      "cell_type": "code",
      "metadata": {
        "id": "hahqXU5MKIc8"
      },
      "source": [
        "def greedy5(player_location, n):\n",
        "  '''Renvoie la liste des voisins 5ième plus courts de player_location dans le metagraph  à étudier pour déterminer le chemin le plus court'''\n",
        "\n",
        "#Programme pour Greedy de niveau 4 mais en évaluant que le n meilleurs chemins à chaque étape\n",
        "#Arbre de profondeur 4 et de largeur n\n",
        "\n",
        "  global best_length\n",
        "  global best_path\n",
        "  global meta_graph\n",
        "  global remaining\n",
        "\n",
        "  #fluctuant_remaining est un remaining actualisé à chaque étaque du greedy pour éviter que le voisin d'un voisin revienne sur ce voisin\n",
        "  fluctuant_remaining = c.deepcopy(remaining)\n",
        "\n",
        "  for n1 in closed_neighbors(player_location, fluctuant_remaining, n):\n",
        "\n",
        "    #Le score est égale au produit de la distance avec la densité\n",
        "    score_so_far = meta_graph[player_location][n1][0]*density(n1)\n",
        "    #Pour que n2 ne considère pas n1\n",
        "    fluctuant_remaining.remove(n1)\n",
        "\n",
        "    #Adapte le code si n1 n'a pas de voisin\n",
        "    closed_n1 = closed_neighbors(n1, fluctuant_remaining, n)\n",
        "\n",
        "    if closed_n1 != []:\n",
        "      #Garde en mémoire le meilleur score pour revenir à score_so_far à chaque futur tour de boucle pour les voisins de n1\n",
        "      score_memory1 = c.deepcopy(score_so_far)\n",
        "\n",
        "      for n2 in closed_n1:\n",
        "        #Même principe que pour le premier voisin\n",
        "        score_so_far = c.deepcopy(score_memory1)\n",
        "        score_so_far += meta_graph[n1][n2][0]*density(n2)\n",
        "        fluctuant_remaining.remove(n2)\n",
        "        closed_n2 = closed_neighbors(n2, fluctuant_remaining, n)\n",
        "\n",
        "        if closed_n2 != []:\n",
        "          score_memory2 = c.deepcopy(score_so_far)\n",
        "\n",
        "          for n3 in closed_n2:\n",
        "            #Même principe que pour le premier voisin\n",
        "            score_so_far = c.deepcopy(score_memory2)\n",
        "            score_so_far += meta_graph[n2][n3][0]*density(n3)\n",
        "\n",
        "            fluctuant_remaining.remove(n3)\n",
        "            closed_n3 = closed_neighbors(n3, fluctuant_remaining, n)\n",
        "\n",
        "            if closed_n3 != []:\n",
        "              score_memory3 = score_so_far\n",
        "\n",
        "              for n4 in closed_n3:\n",
        "                #Même principe que pour le premier voisin\n",
        "                score_so_far = c.deepcopy(score_memory3)\n",
        "                score_so_far += meta_graph[n3][n4][0]*density(n4)\n",
        "\n",
        "                #On actualise le meilleur chemin\n",
        "                if score_so_far < best_length:\n",
        "                  best_length = score_so_far\n",
        "                  best_path = [player_location, n1, n2, n3, n4]\n",
        "\n",
        "            #On actualise meilleur chemin si closed_n3 == []\n",
        "            elif score_so_far < best_length:\n",
        "              best_length = score_so_far\n",
        "              best_path = [player_location, n1, n2, n3]\n",
        "            fluctuant_remaining.append(n3)\n",
        "\n",
        "        #Idem si closed_n2 == []\n",
        "        elif score_so_far < best_length:\n",
        "          best_length = score_so_far\n",
        "          best_path = [player_location, n1, n2]\n",
        "        fluctuant_remaining.append(n2)\n",
        "\n",
        "    #Idem si closed_n1 == []\n",
        "    elif score_so_far < best_length:\n",
        "      best_length = score_so_far\n",
        "      best_path = [player_location, n1]\n",
        "    fluctuant_remaining.append(n1)\n",
        "    print(best_length)\n",
        "  print(best_path)"
      ],
      "execution_count": null,
      "outputs": []
    },
    {
      "cell_type": "code",
      "metadata": {
        "id": "DdJR6KXlc21o"
      },
      "source": [
        "\n"
      ],
      "execution_count": null,
      "outputs": []
    },
    {
      "cell_type": "code",
      "metadata": {
        "id": "vBNfkh0quRNr"
      },
      "source": [],
      "execution_count": null,
      "outputs": []
    },
    {
      "cell_type": "code",
      "metadata": {
        "id": "FNxmITPs1PZF"
      },
      "source": [],
      "execution_count": null,
      "outputs": []
    },
    {
      "cell_type": "code",
      "metadata": {
        "id": "tbKBjPX7ufir"
      },
      "source": [
        "def actualize(player_location):\n",
        "  '''On actualise le best_path et le best_length tous les cinqs fromages mangés'''\n",
        "  global best_length\n",
        "  global routes\n",
        "  global actualize_greedy\n",
        "  global remaining\n",
        "  global n\n",
        "\n",
        "  #On met actualize_greedy en False pour éviter qu'il ne soit tous les tours\n",
        "  actualize_greedy = False\n",
        "  best_length = 1e40\n",
        "  greedy5(player_location, n)\n",
        "  print(\"Actualisation\")\n",
        "\n",
        "  meta_graph_route_to_route()"
      ],
      "execution_count": null,
      "outputs": []
    },
    {
      "cell_type": "code",
      "metadata": {
        "id": "slslsOMOGavP"
      },
      "source": [
        "def meta_graph_route_to_route() :\n",
        "  # Return the sequence of locations in the maze to perform a route in the meta-graph\n",
        "  global routes\n",
        "  global best_path\n",
        "  global meta_graph\n",
        "\n",
        "  #On concatène les routes à partir du best_path\n",
        "  for i in range(len(best_path)-1):\n",
        "    routes += meta_graph[best_path[i]][best_path[i+1]][1][1:]"
      ],
      "execution_count": null,
      "outputs": []
    },
    {
      "cell_type": "markdown",
      "metadata": {
        "id": "EjL8BEixcF3j"
      },
      "source": [
        "<h1><b><center>PyRat functions</center></b></h1>"
      ]
    },
    {
      "cell_type": "markdown",
      "metadata": {
        "id": "T1L9f0UAcN0p"
      },
      "source": [
        "The `preprocessing` function is called at the very start of a game. It is attributed a longer time compared to `turn`, which allows you to perform intensive computations. If you store the results of these computations into **global** variables, you will be able to reuse them in the `turn` function.\n",
        "\n",
        "*Input:*\n",
        "*   `maze_map` -- **dict(pair(int, int), dict(pair(int, int), int))** -- The map of the maze where the game takes place. This structure associates each cell with the dictionry of its neighbors. In that dictionary of neighbors, keys are cell coordinates, and associated values the number of moves required to reach that neighbor. As an example, `list(maze_map[(0, 0)].keys())` returns the list of accessible cells from `(0, 0)`. Then, if for example `(0, 1)` belongs to that list, one can access the number of moves to go from `(0, 0)` to `(0, 1)` by the code `maze_map[(0, 0)][0, 1)]`.\n",
        "*   `maze_width` -- **int** -- The width of the maze, in number of cells.\n",
        "*   `maze_height` -- **int** -- The height of the maze, in number of cells.\n",
        "*   `player_location` -- **pair(int, int)** -- The initial location of your character in the maze.\n",
        "*   `opponent_location` -- **pair(int,int)** -- The initial location of your opponent's character in the maze.\n",
        "*   `pieces_of_cheese` -- **list(pair(int, int))** -- The initial location of all pieces of cheese in the maze.\n",
        "*   `time_allowed` -- **float** -- The time you can take for preprocessing before the game starts checking for moves.\n",
        "\n",
        "*Output:*\n",
        "*   This function does not output anything."
      ]
    },
    {
      "cell_type": "code",
      "metadata": {
        "id": "vFa29qLAcOUb"
      },
      "source": [
        "def preprocessing (maze_map, maze_width, maze_height, player_location, opponent_location, pieces_of_cheese, time_allowed) :\n",
        "\n",
        "    global meta_graph\n",
        "    global routes\n",
        "    global remaining\n",
        "    global center_route\n",
        "    global actualize_greedy\n",
        "    global centerphase\n",
        "    global meta_graph\n",
        "\n",
        "    #On copie la liste des fromages que l'on adaptera suivant les fromages mangés\n",
        "    remaining = c.deepcopy(pieces_of_cheese)\n",
        "\n",
        "\n",
        "    #Execute l'algorithme pour aller vers le centre si les tailles de la maze_map sont suffisamments grandes (Choix arbitraire)\n",
        "    #En effet, nous avons remarqué que la stratégie d'aller au centre n'est pas très efficace pour de petites maze_map\n",
        "    if maze_width*maze_height >= 400:\n",
        "      print(\"Allons vers le centre\")\n",
        "      center_location = (int(maze_width/2),int(maze_height/2))\n",
        "      center_route = center(player_location, maze_map, center_location, pieces_of_cheese, 8)\n",
        "      routes = c.deepcopy(center_route)\n",
        "\n",
        "      #On construit le meta_graph à partir du centre: Graph complet constitué des fromages et de position initiale\n",
        "      build_meta_graph(maze_map, center_location, pieces_of_cheese)\n",
        "\n",
        "    #Si la maze_map n'est pas assez grande, on lance notre greedy 4-4\n",
        "    else:\n",
        "      print(\"Pas besoin d'aller au centre, lancement Greedy!\")\n",
        "      routes.insert(0, player_location)\n",
        "      build_meta_graph(maze_map, player_location, pieces_of_cheese)\n",
        "      print(meta_graph)\n",
        "      actualize(player_location)\n",
        "      centerphase = False\n",
        "\n",
        "\n"
      ],
      "execution_count": null,
      "outputs": []
    },
    {
      "cell_type": "markdown",
      "metadata": {
        "id": "QRi94kuZaVcx"
      },
      "source": [
        "The `turn` function is called each time the game is waiting\n",
        "for the player to make a decision (*i.e.*, to return a move among those defined above).\n",
        "\n",
        "*Input:*\n",
        "*   `maze_map` -- **dict(pair(int, int), dict(pair(int, int), int))** -- The map of the maze. It is the same as in the `preprocessing` function, just given here again for convenience.\n",
        "*   `maze_width` -- **int** -- The width of the maze, in number of cells.\n",
        "*   `maze_height` -- **int** -- The height of the maze, in number of cells.\n",
        "*   `player_location` -- **pair(int, int)** -- The current location of your character in the maze.\n",
        "*   `opponent_location` -- **pair(int,int)** -- The current location of your opponent's character in the maze.\n",
        "*   `player_score` -- **float** -- Your current score.\n",
        "*   `opponent_score` -- **float** -- The opponent's current score.\n",
        "*   `pieces_of_cheese` -- **list(pair(int, int))** -- The location of remaining pieces of cheese in the maze.\n",
        "*   `time_allowed` -- **float** -- The time you can take to return a move to apply before another time starts automatically.\n",
        "\n",
        "*Output:*\n",
        "*   A chosen move among `MOVE_UP`, `MOVE_DOWN`, `MOVE_LEFT` or `MOVE_RIGHT`."
      ]
    },
    {
      "cell_type": "markdown",
      "metadata": {
        "id": "K7O3wjfsRs2R"
      },
      "source": []
    },
    {
      "cell_type": "code",
      "metadata": {
        "id": "qjDcXkelaG05"
      },
      "source": [
        "def turn (maze_map, maze_width, maze_height, player_location, opponent_location, player_score, opponent_score, pieces_of_cheese, time_allowed) :\n",
        "  global index_route\n",
        "  global remaining\n",
        "  global index_cheese\n",
        "  global actualize_greedy\n",
        "  global center_route\n",
        "  global centerphase\n",
        "  global routes\n",
        "\n",
        "  index_route += 1\n",
        "\n",
        "  #Code pour le début de partie\n",
        "  if center_route != [] :\n",
        "    #Actualise le remaining si un fromage est mangé\n",
        "    if player_location in remaining:\n",
        "      remaining.remove(player_location)\n",
        "    center_route.remove(player_location)\n",
        "\n",
        "  #L'algorithme de Greedy commence quand on arrive au centre\n",
        "  if player_location == (int(maze_width/2),int(maze_height/2)) and centerphase:\n",
        "    print(\"Arrivé au centre\")\n",
        "    actualize_greedy = True\n",
        "    centerphase = False\n",
        "\n",
        "  #Actualise les fromages restants (Periode après centre), l'algorithme de greedy s'actualise tous les quatres fromages mangés.\n",
        "  if player_location in remaining and not centerphase:\n",
        "    index_cheese += 1\n",
        "    if index_cheese % 4 == 0:\n",
        "      actualize_greedy = True\n",
        "    remaining.remove(player_location)\n",
        "\n",
        "  #Actualise les fromages restants après que l'adversaire en mange un\n",
        "  if opponent_location in remaining:\n",
        "    remaining.remove(opponent_location)\n",
        "\n",
        "    if opponent_location in best_path:\n",
        "      index_cheese += 1\n",
        "\n",
        "\n",
        "  #Actualise le greedy quand il le faut\n",
        "  if actualize_greedy:\n",
        "    actualize(player_location)\n",
        "\n",
        "  #Reactualiser le greedy en supprimant la route à ne pas parcourir - A faire pour plus tard\n",
        "  return move_from_locations(routes[index_route], routes[index_route + 1])"
      ],
      "execution_count": null,
      "outputs": []
    },
    {
      "cell_type": "markdown",
      "metadata": {
        "id": "uAu_Njg0MoA4"
      },
      "source": []
    }
  ]
}